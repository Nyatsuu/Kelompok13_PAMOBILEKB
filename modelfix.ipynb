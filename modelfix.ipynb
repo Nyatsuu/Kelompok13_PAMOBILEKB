{
  "nbformat": 4,
  "nbformat_minor": 0,
  "metadata": {
    "colab": {
      "provenance": []
    },
    "kernelspec": {
      "name": "python3",
      "display_name": "Python 3"
    },
    "language_info": {
      "name": "python"
    }
  },
  "cells": [
    {
      "cell_type": "code",
      "source": [
        "!pip install pyngrok\n"
      ],
      "metadata": {
        "colab": {
          "base_uri": "https://localhost:8080/"
        },
        "id": "9gqlGDfRwQfv",
        "outputId": "1cea5648-f283-4f13-d07c-5279cf824152"
      },
      "execution_count": 21,
      "outputs": [
        {
          "output_type": "stream",
          "name": "stdout",
          "text": [
            "Requirement already satisfied: pyngrok in /usr/local/lib/python3.10/dist-packages (7.2.1)\n",
            "Requirement already satisfied: PyYAML>=5.1 in /usr/local/lib/python3.10/dist-packages (from pyngrok) (6.0.2)\n"
          ]
        }
      ]
    },
    {
      "cell_type": "code",
      "source": [
        "!pip install flask-cors"
      ],
      "metadata": {
        "colab": {
          "base_uri": "https://localhost:8080/"
        },
        "id": "NQKldJtAikbn",
        "outputId": "d0657201-bd49-4888-de98-f613a176bdef"
      },
      "execution_count": 22,
      "outputs": [
        {
          "output_type": "stream",
          "name": "stdout",
          "text": [
            "Requirement already satisfied: flask-cors in /usr/local/lib/python3.10/dist-packages (5.0.0)\n",
            "Requirement already satisfied: Flask>=0.9 in /usr/local/lib/python3.10/dist-packages (from flask-cors) (3.0.3)\n",
            "Requirement already satisfied: Werkzeug>=3.0.0 in /usr/local/lib/python3.10/dist-packages (from Flask>=0.9->flask-cors) (3.1.3)\n",
            "Requirement already satisfied: Jinja2>=3.1.2 in /usr/local/lib/python3.10/dist-packages (from Flask>=0.9->flask-cors) (3.1.4)\n",
            "Requirement already satisfied: itsdangerous>=2.1.2 in /usr/local/lib/python3.10/dist-packages (from Flask>=0.9->flask-cors) (2.2.0)\n",
            "Requirement already satisfied: click>=8.1.3 in /usr/local/lib/python3.10/dist-packages (from Flask>=0.9->flask-cors) (8.1.7)\n",
            "Requirement already satisfied: blinker>=1.6.2 in /usr/local/lib/python3.10/dist-packages (from Flask>=0.9->flask-cors) (1.9.0)\n",
            "Requirement already satisfied: MarkupSafe>=2.0 in /usr/local/lib/python3.10/dist-packages (from Jinja2>=3.1.2->Flask>=0.9->flask-cors) (3.0.2)\n"
          ]
        }
      ]
    },
    {
      "cell_type": "code",
      "source": [
        "!ngrok authtoken 2poaD6Yusc9t15CgEkRtu51afUT_GuRE4YKPpYifDS22drks\n"
      ],
      "metadata": {
        "colab": {
          "base_uri": "https://localhost:8080/"
        },
        "id": "TBKJ1yMXxC8A",
        "outputId": "95407ccb-8a19-4a4c-a748-3b100951434e"
      },
      "execution_count": 23,
      "outputs": [
        {
          "output_type": "stream",
          "name": "stdout",
          "text": [
            "Authtoken saved to configuration file: /root/.config/ngrok/ngrok.yml\n"
          ]
        }
      ]
    },
    {
      "cell_type": "code",
      "source": [
        "from flask import Flask, request, jsonify\n",
        "from flask_cors import CORS  # Import flask_cors\n",
        "from pyngrok import ngrok\n",
        "import joblib\n",
        "import re\n",
        "import numpy as np\n",
        "from sklearn.feature_extraction.text import TfidfVectorizer\n",
        "\n",
        "# Membuat aplikasi Flask\n",
        "app = Flask(__name__)\n",
        "\n",
        "# Mengaktifkan CORS\n",
        "CORS(app)\n",
        "\n",
        "# Memuat model dan TF-IDF\n",
        "def load_model():\n",
        "    tfidf = joblib.load('tfidf_vectorizer.pkl')  # Ganti dengan lokasi file tfidf_vectorizer.pkl\n",
        "    model = joblib.load('language_model.pkl')  # Ganti dengan lokasi file model.pkl\n",
        "    return tfidf, model\n",
        "\n",
        "# Fungsi untuk membersihkan teks\n",
        "def clean_text(text):\n",
        "    text = text.lower()  # Mengubah semua huruf menjadi kecil\n",
        "    text = re.sub(r'\\s+', ' ', text)  # Menghapus whitespace berlebih\n",
        "    text = re.sub(r'[^\\w\\s]', '', text)  # Menghapus karakter non-alfanumerik\n",
        "    return text\n",
        "\n",
        "# Endpoint untuk prediksi bahasa\n",
        "@app.route('/predict', methods=['POST'])\n",
        "def predict_language():\n",
        "    try:\n",
        "        # Memuat model\n",
        "        tfidf, model = load_model()\n",
        "\n",
        "        # Menerima data input dari pengguna\n",
        "        data = request.get_json()\n",
        "        user_text = data.get('text', '')\n",
        "\n",
        "        if not user_text:\n",
        "            return jsonify({'error': 'Text is required'}), 400\n",
        "\n",
        "        # Pembersihan teks\n",
        "        cleaned_text = clean_text(user_text)\n",
        "\n",
        "        # Transformasi teks dengan TF-IDF\n",
        "        text_tfidf = tfidf.transform([cleaned_text])\n",
        "\n",
        "        # Prediksi bahasa\n",
        "        predicted_lang = model.predict(text_tfidf)\n",
        "\n",
        "        # Pastikan prediksi mengembalikan hasil yang valid\n",
        "        if predicted_lang is not None:\n",
        "            return jsonify({'predicted_language': predicted_lang[0]})\n",
        "        else:\n",
        "            return jsonify({'error': 'Prediction failed'}), 500\n",
        "\n",
        "    except Exception as e:\n",
        "        # Menangani error jika terjadi\n",
        "        print(f\"Error: {str(e)}\")  # Menambahkan log untuk melihat error\n",
        "        return jsonify({'error': str(e)}), 500\n",
        "\n",
        "\n",
        "# Menjalankan aplikasi Flask\n",
        "if __name__ == '__main__':\n",
        "    # Buka ngrok tunnel\n",
        "    public_url = ngrok.connect(5000)  # Tidak perlu menambahkan `use_https=True`\n",
        "    print(f\"[*] Flask app ngrok tunnel \\\"{public_url}\\\"\")\n",
        "    app.run(host='0.0.0.0', port=5000)\n"
      ],
      "metadata": {
        "colab": {
          "base_uri": "https://localhost:8080/"
        },
        "id": "oSawR9RTwSWN",
        "outputId": "841c3b1e-7981-49c1-f174-565e00c41640"
      },
      "execution_count": 28,
      "outputs": [
        {
          "output_type": "stream",
          "name": "stdout",
          "text": [
            "[*] Flask app ngrok tunnel \"NgrokTunnel: \"https://1b1c-34-105-115-77.ngrok-free.app\" -> \"http://localhost:5000\"\"\n",
            " * Serving Flask app '__main__'\n",
            " * Debug mode: off\n"
          ]
        },
        {
          "output_type": "stream",
          "name": "stderr",
          "text": [
            "INFO:werkzeug:\u001b[31m\u001b[1mWARNING: This is a development server. Do not use it in a production deployment. Use a production WSGI server instead.\u001b[0m\n",
            " * Running on all addresses (0.0.0.0)\n",
            " * Running on http://127.0.0.1:5000\n",
            " * Running on http://172.28.0.12:5000\n",
            "INFO:werkzeug:\u001b[33mPress CTRL+C to quit\u001b[0m\n",
            "INFO:werkzeug:127.0.0.1 - - [06/Dec/2024 02:12:31] \"POST /predict HTTP/1.1\" 200 -\n",
            "INFO:werkzeug:127.0.0.1 - - [06/Dec/2024 02:13:17] \"OPTIONS /predict HTTP/1.1\" 200 -\n",
            "INFO:werkzeug:127.0.0.1 - - [06/Dec/2024 02:13:17] \"\u001b[31m\u001b[1mPOST /predict HTTP/1.1\u001b[0m\" 400 -\n",
            "INFO:werkzeug:127.0.0.1 - - [06/Dec/2024 02:14:11] \"OPTIONS /predict HTTP/1.1\" 200 -\n",
            "INFO:werkzeug:127.0.0.1 - - [06/Dec/2024 02:14:12] \"POST /predict HTTP/1.1\" 200 -\n",
            "INFO:werkzeug:127.0.0.1 - - [06/Dec/2024 02:26:33] \"OPTIONS /predict HTTP/1.1\" 200 -\n",
            "INFO:werkzeug:127.0.0.1 - - [06/Dec/2024 02:26:34] \"\u001b[31m\u001b[1mPOST /predict HTTP/1.1\u001b[0m\" 400 -\n",
            "INFO:werkzeug:127.0.0.1 - - [06/Dec/2024 02:26:49] \"POST /predict HTTP/1.1\" 200 -\n",
            "INFO:werkzeug:127.0.0.1 - - [06/Dec/2024 02:29:39] \"OPTIONS /predict HTTP/1.1\" 200 -\n",
            "INFO:werkzeug:127.0.0.1 - - [06/Dec/2024 02:29:39] \"\u001b[31m\u001b[1mPOST /predict HTTP/1.1\u001b[0m\" 400 -\n",
            "INFO:werkzeug:127.0.0.1 - - [06/Dec/2024 02:29:49] \"OPTIONS /predict HTTP/1.1\" 200 -\n",
            "INFO:werkzeug:127.0.0.1 - - [06/Dec/2024 02:29:49] \"\u001b[31m\u001b[1mPOST /predict HTTP/1.1\u001b[0m\" 400 -\n",
            "INFO:werkzeug:127.0.0.1 - - [06/Dec/2024 02:43:18] \"OPTIONS /predict HTTP/1.1\" 200 -\n",
            "INFO:werkzeug:127.0.0.1 - - [06/Dec/2024 02:43:18] \"\u001b[31m\u001b[1mPOST /predict HTTP/1.1\u001b[0m\" 400 -\n",
            "INFO:werkzeug:127.0.0.1 - - [06/Dec/2024 02:43:28] \"OPTIONS /predict HTTP/1.1\" 200 -\n",
            "INFO:werkzeug:127.0.0.1 - - [06/Dec/2024 02:43:28] \"\u001b[31m\u001b[1mPOST /predict HTTP/1.1\u001b[0m\" 400 -\n",
            "INFO:werkzeug:127.0.0.1 - - [06/Dec/2024 02:45:44] \"POST /predict HTTP/1.1\" 200 -\n",
            "INFO:werkzeug:127.0.0.1 - - [06/Dec/2024 02:46:28] \"POST /predict HTTP/1.1\" 200 -\n"
          ]
        }
      ]
    }
  ]
}